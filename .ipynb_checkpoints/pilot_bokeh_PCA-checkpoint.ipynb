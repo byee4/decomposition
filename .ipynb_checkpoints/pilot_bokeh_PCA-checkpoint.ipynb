{
 "cells": [
  {
   "cell_type": "code",
   "execution_count": 4,
   "metadata": {
    "collapsed": false
   },
   "outputs": [
    {
     "name": "stdout",
     "output_type": "stream",
     "text": [
      "    color  condition\n",
      "0       1     setosa\n",
      "1       1     setosa\n",
      "2       1     setosa\n",
      "3       1     setosa\n",
      "4       1     setosa\n",
      "5       1     setosa\n",
      "6       1     setosa\n",
      "7       1     setosa\n",
      "8       1     setosa\n",
      "9       1     setosa\n",
      "10      1     setosa\n",
      "11      1     setosa\n",
      "12      1     setosa\n",
      "13      1     setosa\n",
      "14      1     setosa\n",
      "15      1     setosa\n",
      "16      1     setosa\n",
      "17      1     setosa\n",
      "18      1     setosa\n",
      "19      1     setosa\n",
      "20      1     setosa\n",
      "21      1     setosa\n",
      "22      1     setosa\n",
      "23      1     setosa\n",
      "24      1     setosa\n",
      "25      1     setosa\n",
      "26      1     setosa\n",
      "27      1     setosa\n",
      "28      1     setosa\n",
      "29      1     setosa\n",
      "..    ...        ...\n",
      "120     3  virginica\n",
      "121     3  virginica\n",
      "122     3  virginica\n",
      "123     3  virginica\n",
      "124     3  virginica\n",
      "125     3  virginica\n",
      "126     3  virginica\n",
      "127     3  virginica\n",
      "128     3  virginica\n",
      "129     3  virginica\n",
      "130     3  virginica\n",
      "131     3  virginica\n",
      "132     3  virginica\n",
      "133     3  virginica\n",
      "134     3  virginica\n",
      "135     3  virginica\n",
      "136     3  virginica\n",
      "137     3  virginica\n",
      "138     3  virginica\n",
      "139     3  virginica\n",
      "140     3  virginica\n",
      "141     3  virginica\n",
      "142     3  virginica\n",
      "143     3  virginica\n",
      "144     3  virginica\n",
      "145     3  virginica\n",
      "146     3  virginica\n",
      "147     3  virginica\n",
      "148     3  virginica\n",
      "149     3  virginica\n",
      "\n",
      "[150 rows x 2 columns]\n",
      "('IRIS SHAPE: ', 3)\n",
      "3\n",
      "0\n",
      "1\n",
      "2\n"
     ]
    }
   ],
   "source": [
    "%reload_ext autoreload\n",
    "%autoreload 2\n",
    "\n",
    "\n",
    "# bokeh stuff\n",
    "from bokeh.io import push_notebook, show, output_notebook # for plotting inline\n",
    "from bokeh.plotting import figure, output_file, Figure\n",
    "# from bokeh.plotting import Figure, show, output_file # for saving to file\n",
    "from ipywidgets import interact\n",
    "from bokeh.models import HoverTool\n",
    "from bokeh.models import ColumnDataSource\n",
    "\n",
    "# relative imports\n",
    "import Experiment\n",
    "import PCAPlotter\n",
    "import color_helpers as ch\n",
    "\n",
    "iris = '/home/bay001/projects/codebase/data/iris.txt'\n",
    "iris_meta = '/home/bay001/projects/codebase/data/iris.names'\n",
    "\n",
    "iris_expt = Experiment.Experiment(\n",
    "    counts_file=iris,\n",
    "    conditions_file=iris_meta,\n",
    "    conditions_col='names',\n",
    "    gene_id=None,\n",
    "    is_featurecounts=False\n",
    ")\n",
    "\n",
    "\"\"\" Define the tools needed \"\"\"\n",
    "hover = HoverTool(\n",
    "        tooltips=[\n",
    "            (\"index\", \"@idx\")\n",
    "        ]\n",
    "    )\n",
    "print(\"IRIS SHAPE: \",len(set(iris_expt.metadata['color'])))\n",
    "cmap = ch.hex_to_cmap(3)\n",
    "\n",
    "px = figure(tools=[hover])\n",
    "r = PCAPlotter.pcaplot(iris_expt, bokeh=True, ax=px, cmap=cmap)"
   ]
  },
  {
   "cell_type": "code",
   "execution_count": null,
   "metadata": {
    "collapsed": false
   },
   "outputs": [],
   "source": [
    "%matplotlib notebook\n",
    "%reload_ext autoreload\n",
    "%autoreload 2\n",
    "\n",
    "import os\n",
    "import numpy as np\n",
    "import seaborn as sns\n",
    "import pandas as pd\n",
    "import matplotlib.pyplot as plt\n",
    "\n",
    "\n",
    "output_notebook()\n",
    "\n",
    "counts = '/home/bay001/projects/codebase/data/matrix.txt'\n",
    "goi = '/home/bay001/projects/codebase/data/test_neuronal_markers.txt'\n",
    "starting_gene = 'ENSG00000118271'\n",
    "\n",
    "expt = Experiment.Experiment(\n",
    "    counts_file=counts,\n",
    "    conditions_file=None,\n",
    "    conditions_col=None,\n",
    "    gene_id=starting_gene,\n",
    "    is_featurecounts=False\n",
    ")\n",
    "\n",
    "expt.counts.as_log2(pseudocount=1)\n",
    "expt.counts.subset(subset_file=goi)\n",
    "\n",
    "\"\"\" Define the tools needed \"\"\"\n",
    "hover = HoverTool(\n",
    "        tooltips=[\n",
    "            (\"index\", \"@idx\")\n",
    "        ]\n",
    "    )\n",
    "\n",
    "def update_expression(f):\n",
    "    \"\"\"\n",
    "    when called, sets a new colormap\n",
    "    \"\"\"\n",
    "    r.set_color(f)\n",
    "    push_notebook()\n",
    "\n",
    "px = figure(tools=[hover])\n",
    "r = PCAPlotter.pcaplot(expt, bokeh=True, ax=px, cmap='Purples')"
   ]
  },
  {
   "cell_type": "code",
   "execution_count": null,
   "metadata": {
    "collapsed": false
   },
   "outputs": [],
   "source": [
    "show(px, notebook_handle=True)"
   ]
  },
  {
   "cell_type": "code",
   "execution_count": null,
   "metadata": {
    "collapsed": false
   },
   "outputs": [],
   "source": [
    "df = pd.read_table(counts,index_col=0)\n",
    "markers = sorted(list(set([line.strip() for line in open(goi,'r')]).intersection(set(df.index))))\n",
    "interact(update_expression, f=markers)"
   ]
  },
  {
   "cell_type": "code",
   "execution_count": null,
   "metadata": {
    "collapsed": false
   },
   "outputs": [],
   "source": []
  },
  {
   "cell_type": "code",
   "execution_count": null,
   "metadata": {
    "collapsed": false
   },
   "outputs": [],
   "source": [
    "show(px, notebook_handle=True)"
   ]
  },
  {
   "cell_type": "code",
   "execution_count": null,
   "metadata": {
    "collapsed": false
   },
   "outputs": [],
   "source": [
    "iris_expt.metadata.shape[1] == 3"
   ]
  },
  {
   "cell_type": "code",
   "execution_count": null,
   "metadata": {
    "collapsed": false
   },
   "outputs": [],
   "source": [
    "type(iris_expt.metadata.shape[1])"
   ]
  },
  {
   "cell_type": "code",
   "execution_count": null,
   "metadata": {
    "collapsed": true
   },
   "outputs": [],
   "source": []
  }
 ],
 "metadata": {
  "kernelspec": {
   "display_name": "Python 2",
   "language": "python",
   "name": "python2"
  },
  "language_info": {
   "codemirror_mode": {
    "name": "ipython",
    "version": 2
   },
   "file_extension": ".py",
   "mimetype": "text/x-python",
   "name": "python",
   "nbconvert_exporter": "python",
   "pygments_lexer": "ipython2",
   "version": "2.7.12"
  },
  "widgets": {
   "state": {
    "dcf865977f014927a7f27b4344393e4d": {
     "views": [
      {
       "cell_index": 2
      }
     ]
    }
   },
   "version": "1.2.0"
  }
 },
 "nbformat": 4,
 "nbformat_minor": 0
}
