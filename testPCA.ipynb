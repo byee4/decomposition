{
 "cells": [
  {
   "cell_type": "code",
   "execution_count": 17,
   "metadata": {
    "collapsed": false
   },
   "outputs": [],
   "source": [
    "import pandas as pd\n",
    "import numpy as np\n",
    "from pandas.util.testing import assert_frame_equal\n",
    "import cluster\n",
    "import ExpressionTable"
   ]
  },
  {
   "cell_type": "code",
   "execution_count": 18,
   "metadata": {
    "collapsed": true
   },
   "outputs": [],
   "source": [
    "prog = 'cluster.py'"
   ]
  },
  {
   "cell_type": "code",
   "execution_count": 19,
   "metadata": {
    "collapsed": false
   },
   "outputs": [],
   "source": [
    "counts = '/home/bay001/projects/codebase/data/matrix.txt'\n",
    "markers = '/home/bay001/projects/codebase/data/neuronal_markers.txt'\n",
    "ref_pc = '/home/bay001/projects/codebase/data/ref_prcomp.txt'\n",
    "ref_subset = '/home/bay001/projects/codebase/data/ref_subset.txt'\n",
    "\n",
    "test_output = '/home/bay001/projects/codebase/data/pca.png'\n",
    "test_pc = '/home/bay001/projects/codebase/data/pca.pcacomp.txt'\n",
    "test_gene_expr = 'ENSG00000118271'\n",
    "algorithm = 'PCA'\n",
    "\n",
    "! python $prog -l2 -i $counts -s $markers -g $test_gene_expr -o $test_output -k -a $algorithm"
   ]
  },
  {
   "cell_type": "code",
   "execution_count": 27,
   "metadata": {
    "collapsed": false
   },
   "outputs": [],
   "source": [
    "counts = '/home/bay001/projects/codebase/data/matrix.txt'\n",
    "markers = '/home/bay001/projects/codebase/data/neuronal_markers.txt'\n",
    "ref_pc = '/home/bay001/projects/codebase/data/ref_prcomp.txt'\n",
    "ref_subset = '/home/bay001/projects/codebase/data/ref_subset.txt'\n",
    "\n",
    "test_output = '/home/bay001/projects/codebase/data/tsne.png'\n",
    "test_pc = '/home/bay001/projects/codebase/data/tsne.tsnecomp.txt'\n",
    "test_gene_expr = 'ENSG00000118271'\n",
    "algorithm = 'TSNE'\n",
    "\n",
    "! python $prog -l2 -i $counts -s $markers -g $test_gene_expr -o $test_output -k -a $algorithm"
   ]
  },
  {
   "cell_type": "code",
   "execution_count": 33,
   "metadata": {
    "collapsed": false
   },
   "outputs": [
    {
     "name": "stdout",
     "output_type": "stream",
     "text": [
      "/home/bay001/anaconda/lib/python2.7/site-packages/sklearn/decomposition/fastica_.py:116: UserWarning: FastICA did not converge. Consider increasing tolerance or the maximum number of iterations.\r\n",
      "  warnings.warn('FastICA did not converge. Consider increasing '\r\n"
     ]
    }
   ],
   "source": [
    "counts = '/home/bay001/projects/codebase/data/matrix.txt'\n",
    "markers = '/home/bay001/projects/codebase/data/neuronal_markers.txt'\n",
    "ref_pc = '/home/bay001/projects/codebase/data/ref_prcomp.txt'\n",
    "ref_subset = '/home/bay001/projects/codebase/data/ref_subset.txt'\n",
    "\n",
    "test_output = '/home/bay001/projects/codebase/data/ica.png'\n",
    "test_pc = '/home/bay001/projects/codebase/data/ica.icacomp.txt'\n",
    "test_gene_expr = 'ENSG00000118271'\n",
    "algorithm = 'ICA'\n",
    "\n",
    "! python $prog -l2 -i $counts -s $markers -g $test_gene_expr -o $test_output -k -a $algorithm"
   ]
  },
  {
   "cell_type": "code",
   "execution_count": 36,
   "metadata": {
    "collapsed": false
   },
   "outputs": [],
   "source": [
    "f_counts = '/home/bay001/projects/codebase/data/counts.txt'\n",
    "f_conditions = '/home/bay001/projects/codebase/data/ref_conditions.txt'\n",
    "f_column = 'treat'\n",
    "\n",
    "ref_f_rpkm = '/home/bay001/projects/codebase/data/ref_rpkms_featurecounts.txt'\n",
    "ref_f_log2_rpkm = '/home/bay001/projects/codebase/data/ref_rpkms_log2_featurecounts.txt'\n",
    "ref_f_prcomp = '/home/bay001/projects/codebase/data/ref_prcomp_featurecounts.txt'\n",
    "ref_f_24_prcomp = '/home/bay001/projects/codebase/data/ref_prcomp_minavg1_featurecounts.txt'\n",
    "\n",
    "test_f_rpkm = '/home/bay001/projects/codebase/data/test_rpkms_featurecounts.txt'\n",
    "test_f_log2_rpkm = '/home/bay001/projects/codebase/data/test_rpkms_log2_featurecounts.txt'\n",
    "test_f_output = '/home/bay001/projects/codebase/data/pca_featurecounts.png'\n",
    "test_f_prcomp = '/home/bay001/projects/codebase/data/pca_featurecounts.pcacomp.txt'\n",
    "algorithm = 'PCA'\n",
    "\n",
    "! python $prog -l2 -f -rpkm -i $f_counts -o $test_f_output -c $f_conditions -cc $f_column -a $algorithm"
   ]
  },
  {
   "cell_type": "code",
   "execution_count": 37,
   "metadata": {
    "collapsed": true
   },
   "outputs": [],
   "source": [
    "f_counts = '/home/bay001/projects/codebase/data/counts.txt'\n",
    "f_conditions = '/home/bay001/projects/codebase/data/ref_conditions.txt'\n",
    "f_column = 'treat'\n",
    "\n",
    "ref_f_rpkm = '/home/bay001/projects/codebase/data/ref_rpkms_featurecounts.txt'\n",
    "ref_f_log2_rpkm = '/home/bay001/projects/codebase/data/ref_rpkms_log2_featurecounts.txt'\n",
    "ref_f_prcomp = '/home/bay001/projects/codebase/data/ref_prcomp_featurecounts.txt'\n",
    "ref_f_24_prcomp = '/home/bay001/projects/codebase/data/ref_prcomp_minavg1_featurecounts.txt'\n",
    "\n",
    "test_f_rpkm = '/home/bay001/projects/codebase/data/test_rpkms_featurecounts.txt'\n",
    "test_f_log2_rpkm = '/home/bay001/projects/codebase/data/test_rpkms_log2_featurecounts.txt'\n",
    "test_f_output = '/home/bay001/projects/codebase/data/tsne_featurecounts.png'\n",
    "test_f_prcomp = '/home/bay001/projects/codebase/data/tsne_featurecounts.tsnecomp.txt'\n",
    "algorithm = 'TSNE'\n",
    "\n",
    "\n",
    "! python $prog -l2 -f -rpkm -i $f_counts -o $test_f_output -c $f_conditions -cc $f_column -a $algorithm"
   ]
  },
  {
   "cell_type": "code",
   "execution_count": 38,
   "metadata": {
    "collapsed": true
   },
   "outputs": [],
   "source": [
    "f_counts = '/home/bay001/projects/codebase/data/counts.txt'\n",
    "f_conditions = '/home/bay001/projects/codebase/data/ref_conditions.txt'\n",
    "f_column = 'treat'\n",
    "\n",
    "ref_f_rpkm = '/home/bay001/projects/codebase/data/ref_rpkms_featurecounts.txt'\n",
    "ref_f_log2_rpkm = '/home/bay001/projects/codebase/data/ref_rpkms_log2_featurecounts.txt'\n",
    "ref_f_prcomp = '/home/bay001/projects/codebase/data/ref_prcomp_featurecounts.txt'\n",
    "ref_f_24_prcomp = '/home/bay001/projects/codebase/data/ref_prcomp_minavg1_featurecounts.txt'\n",
    "\n",
    "test_f_rpkm = '/home/bay001/projects/codebase/data/test_rpkms_featurecounts.txt'\n",
    "test_f_log2_rpkm = '/home/bay001/projects/codebase/data/test_rpkms_log2_featurecounts.txt'\n",
    "test_f_output = '/home/bay001/projects/codebase/data/ica_featurecounts.png'\n",
    "test_f_prcomp = '/home/bay001/projects/codebase/data/ica_featurecounts.pcacomp.txt'\n",
    "algorithm = 'ICA'\n",
    "\n",
    "\n",
    "! python $prog -l2 -f -rpkm -i $f_counts -o $test_f_output -c $f_conditions -cc $f_column -a $algorithm"
   ]
  },
  {
   "cell_type": "code",
   "execution_count": 13,
   "metadata": {
    "collapsed": false
   },
   "outputs": [],
   "source": [
    "def diff(df1, df2):\n",
    "    try:\n",
    "        assert_frame_equal(df1, df2)\n",
    "        return('same')\n",
    "    except:  # appeantly AssertionError doesn't catch all\n",
    "        return('different')"
   ]
  },
  {
   "cell_type": "code",
   "execution_count": 14,
   "metadata": {
    "collapsed": false
   },
   "outputs": [
    {
     "data": {
      "text/plain": [
       "'same'"
      ]
     },
     "execution_count": 14,
     "metadata": {},
     "output_type": "execute_result"
    }
   ],
   "source": [
    "# test prcomp matrix ( for single cell )\n",
    "ref = pd.read_table(ref_pc,index_col=0)\n",
    "test = pd.read_table(test_pc,index_col=0)\n",
    "diff(test,ref)"
   ]
  },
  {
   "cell_type": "code",
   "execution_count": 15,
   "metadata": {
    "collapsed": false
   },
   "outputs": [
    {
     "data": {
      "text/plain": [
       "'same'"
      ]
     },
     "execution_count": 15,
     "metadata": {},
     "output_type": "execute_result"
    }
   ],
   "source": [
    "# test filter function ( for all )\n",
    "test = ExpressionTable.ExpressionTable(counts)\n",
    "test.subset(markers)\n",
    "ref = pd.read_table(ref_subset,index_col=0)\n",
    "diff(test.data,ref)"
   ]
  },
  {
   "cell_type": "code",
   "execution_count": 16,
   "metadata": {
    "collapsed": false
   },
   "outputs": [
    {
     "data": {
      "text/plain": [
       "'same'"
      ]
     },
     "execution_count": 16,
     "metadata": {},
     "output_type": "execute_result"
    }
   ],
   "source": [
    "# test rpkm function ( for featurecounts )\n",
    "ref = pd.read_table(ref_f_rpkm, index_col=0)\n",
    "test = ExpressionTable.FeatureCountsTable(f_counts)\n",
    "test.as_rpkm()\n",
    "\n",
    "diff(test.data,ref)"
   ]
  },
  {
   "cell_type": "code",
   "execution_count": null,
   "metadata": {
    "collapsed": false
   },
   "outputs": [],
   "source": []
  },
  {
   "cell_type": "code",
   "execution_count": 9,
   "metadata": {
    "collapsed": false
   },
   "outputs": [
    {
     "data": {
      "text/plain": [
       "'same'"
      ]
     },
     "execution_count": 9,
     "metadata": {},
     "output_type": "execute_result"
    }
   ],
   "source": [
    "# test prcomp\n",
    "! python $prog -l2 -f -rpkm -i $f_counts -o $test_f_output -c $f_conditions -cc $f_column\n",
    "ref = pd.read_table(ref_f_prcomp, index_col=0)\n",
    "test = pd.read_table(test_f_prcomp, index_col=0)\n",
    "test.index = [i.replace('_R1_001.polyATrim.adapterTrim.rmRep.sorted.rg.bam','') for i in test.index]\n",
    "diff(test,ref)"
   ]
  },
  {
   "cell_type": "code",
   "execution_count": 10,
   "metadata": {
    "collapsed": false
   },
   "outputs": [
    {
     "data": {
      "text/plain": [
       "'same'"
      ]
     },
     "execution_count": 10,
     "metadata": {},
     "output_type": "execute_result"
    }
   ],
   "source": [
    "# test cutoff (-sc option)\n",
    "! python $prog -l2 -f -rpkm -i $f_counts -o $test_f_output -c $f_conditions -cc $f_column -sc 24\n",
    "ref = pd.read_table(ref_f_24_prcomp,index_col=0)\n",
    "test = pd.read_table(test_f_prcomp,index_col=0)\n",
    "test.index = [i.replace('_R1_001.polyATrim.adapterTrim.rmRep.sorted.rg.bam','') for i in test.index]\n",
    "diff(ref,test)\n"
   ]
  },
  {
   "cell_type": "code",
   "execution_count": null,
   "metadata": {
    "collapsed": false
   },
   "outputs": [],
   "source": []
  },
  {
   "cell_type": "code",
   "execution_count": null,
   "metadata": {
    "collapsed": true
   },
   "outputs": [],
   "source": []
  }
 ],
 "metadata": {
  "kernelspec": {
   "display_name": "Python 2",
   "language": "python",
   "name": "python2"
  },
  "language_info": {
   "codemirror_mode": {
    "name": "ipython",
    "version": 2
   },
   "file_extension": ".py",
   "mimetype": "text/x-python",
   "name": "python",
   "nbconvert_exporter": "python",
   "pygments_lexer": "ipython2",
   "version": "2.7.12"
  }
 },
 "nbformat": 4,
 "nbformat_minor": 1
}
